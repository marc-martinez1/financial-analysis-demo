{
 "cells": [
  {
   "cell_type": "code",
   "execution_count": 1,
   "id": "cd187101-3cf5-4f74-9712-57fa63b0be4f",
   "metadata": {},
   "outputs": [
    {
     "data": {
      "text/plain": [
       "\"\\nWelcome to Ichiban Ramen!\\n\\nOpening a ramen shop has always been your dream, and now it's finally been realized––you're closing out on your second year of sales! Like last year, you need to analyze your business's financial performance by cross-referencing your sales data with your internal menu data to figure out revenues and costs for the year.\\n\\nThis year, you also want to analyze how well your business did on a per-product basis (as you have several choices of ramen) in order to better understand which products are doing well, which are doing poorly, and, ultimately, which products may need to be removed or changed.\\n\\nYou tried doing this type of per-product analysis last year in Excel, but you were not able to keep your reports up-to-date with your current sales data. Therefore, you need to innovate. With more customers and more data to process, you'll need a tool that will allow you to automate your calculations in a manner that scales with your business.\\n\\nEnter Python! Python provides a wide range of capabilities for handling data, harnessing the power of low-level Python data structures and high-level development libraries, all the while supporting the automation and scalability needs for a growing enterprise.\\n\""
      ]
     },
     "execution_count": 1,
     "metadata": {},
     "output_type": "execute_result"
    }
   ],
   "source": [
    "\"\"\"\n",
    "Welcome to Ichiban Ramen!\n",
    "\n",
    "Opening a ramen shop has always been your dream, and now it's finally been realized––you're closing out on your second year of sales! Like last year, you need to analyze your business's financial performance by cross-referencing your sales data with your internal menu data to figure out revenues and costs for the year.\n",
    "\n",
    "This year, you also want to analyze how well your business did on a per-product basis (as you have several choices of ramen) in order to better understand which products are doing well, which are doing poorly, and, ultimately, which products may need to be removed or changed.\n",
    "\n",
    "You tried doing this type of per-product analysis last year in Excel, but you were not able to keep your reports up-to-date with your current sales data. Therefore, you need to innovate. With more customers and more data to process, you'll need a tool that will allow you to automate your calculations in a manner that scales with your business.\n",
    "\n",
    "Enter Python! Python provides a wide range of capabilities for handling data, harnessing the power of low-level Python data structures and high-level development libraries, all the while supporting the automation and scalability needs for a growing enterprise.\n",
    "\"\"\""
   ]
  },
  {
   "cell_type": "code",
   "execution_count": 2,
   "id": "d1b1f447-6ce3-4696-ab29-c838e08d42db",
   "metadata": {
    "tags": []
   },
   "outputs": [
    {
     "ename": "UnsupportedOperation",
     "evalue": "not readable",
     "output_type": "error",
     "traceback": [
      "\u001b[1;31m---------------------------------------------------------------------------\u001b[0m",
      "\u001b[1;31mUnsupportedOperation\u001b[0m                      Traceback (most recent call last)",
      "Cell \u001b[1;32mIn[2], line 8\u001b[0m\n\u001b[0;32m      6\u001b[0m \u001b[38;5;28;01mwith\u001b[39;00m \u001b[38;5;28mopen\u001b[39m(menu_data_path, \u001b[38;5;124m'\u001b[39m\u001b[38;5;124mw\u001b[39m\u001b[38;5;124m'\u001b[39m) \u001b[38;5;28;01mas\u001b[39;00m csvfile:\n\u001b[0;32m      7\u001b[0m     csvreader \u001b[38;5;241m=\u001b[39m csv\u001b[38;5;241m.\u001b[39mreader(csvfile, delimiter\u001b[38;5;241m=\u001b[39m\u001b[38;5;124m'\u001b[39m\u001b[38;5;124m,\u001b[39m\u001b[38;5;124m'\u001b[39m)\n\u001b[1;32m----> 8\u001b[0m     header \u001b[38;5;241m=\u001b[39m \u001b[38;5;28;43mnext\u001b[39;49m\u001b[43m(\u001b[49m\u001b[43mcsvreader\u001b[49m\u001b[43m)\u001b[49m\n\u001b[0;32m      9\u001b[0m     line_num \u001b[38;5;241m+\u001b[39m\u001b[38;5;241m=\u001b[39m \u001b[38;5;241m1\u001b[39m\n\u001b[0;32m     10\u001b[0m     \u001b[38;5;28;01mfor\u001b[39;00m row \u001b[38;5;129;01min\u001b[39;00m menu_datareader:\n",
      "\u001b[1;31mUnsupportedOperation\u001b[0m: not readable"
     ]
    }
   ],
   "source": [
    "from pathlib import Path\n",
    "import csv\n",
    "menu_data_path = Path('Resources\\menu_data.csv')\n",
    "menu = []\n",
    "line_num=0\n",
    "with open(menu_data_path, 'w') as csvfile:\n",
    "    csvreader = csv.reader(csvfile, delimiter=',')\n",
    "    header = next(csvreader)\n",
    "    line_num += 1\n",
    "    for row in menu_datareader:\n",
    "        price = int(row[3])\n",
    "        prices.append(price)\n",
    "        cost = int(row[4])\n",
    "        costs.append(cost)\n",
    "# Part 1: Read the Data\n",
    "# Complete the following steps:\n",
    "\n",
    "# Read in menu_data.csv and set its contents to a separate list object. (This way, you can cross-reference your menu data with your sales data as you read in your sales data in the coming steps.)\n",
    "\n",
    "# Initialize an empty menu list object to hold the contents of menu_data.csv.\n",
    "\n",
    "# Use a with statement and open the menu_data.csv by using its file path.\n",
    "\n",
    "# Use the reader function from the csv library to begin reading menu_data.csv.\n",
    "\n",
    "# Use the next function to skip the header (first row of the CSV).\n",
    "\n",
    "# Loop over the rest of the rows and append every row to the menu list object (the outcome will be a list of lists).\n",
    "\n",
    "# Set up the same process to read in sales_data.csv. However, instead append every row of the sales data to a new sales list object."
   ]
  },
  {
   "cell_type": "code",
   "execution_count": 3,
   "id": "3c82aa78-8be2-43c7-a428-6f96574d0152",
   "metadata": {},
   "outputs": [
    {
     "ename": "UnsupportedOperation",
     "evalue": "not readable",
     "output_type": "error",
     "traceback": [
      "\u001b[1;31m---------------------------------------------------------------------------\u001b[0m",
      "\u001b[1;31mUnsupportedOperation\u001b[0m                      Traceback (most recent call last)",
      "Cell \u001b[1;32mIn[3], line 6\u001b[0m\n\u001b[0;32m      4\u001b[0m \u001b[38;5;28;01mwith\u001b[39;00m \u001b[38;5;28mopen\u001b[39m(sales_data_path, \u001b[38;5;124m'\u001b[39m\u001b[38;5;124mw\u001b[39m\u001b[38;5;124m'\u001b[39m) \u001b[38;5;28;01mas\u001b[39;00m csvfile:\n\u001b[0;32m      5\u001b[0m     csvreader \u001b[38;5;241m=\u001b[39m csv\u001b[38;5;241m.\u001b[39mreader(csvfile, delimiter\u001b[38;5;241m=\u001b[39m\u001b[38;5;124m'\u001b[39m\u001b[38;5;124m,\u001b[39m\u001b[38;5;124m'\u001b[39m)\n\u001b[1;32m----> 6\u001b[0m     header \u001b[38;5;241m=\u001b[39m \u001b[38;5;28;43mnext\u001b[39;49m\u001b[43m(\u001b[49m\u001b[43mcsvreader\u001b[49m\u001b[43m)\u001b[49m\n\u001b[0;32m      7\u001b[0m     line_num \u001b[38;5;241m+\u001b[39m\u001b[38;5;241m=\u001b[39m \u001b[38;5;241m1\u001b[39m\n\u001b[0;32m      8\u001b[0m     \u001b[38;5;28;01mfor\u001b[39;00m row \u001b[38;5;129;01min\u001b[39;00m csvreader:\n",
      "\u001b[1;31mUnsupportedOperation\u001b[0m: not readable"
     ]
    }
   ],
   "source": [
    "sales_data_path = Path('Resources\\sales_data.csv')\n",
    "sales = []\n",
    "line_num=0\n",
    "with open(sales_data_path, 'w') as csvfile:\n",
    "    csvreader = csv.reader(csvfile, delimiter=',')\n",
    "    header = next(csvreader)\n",
    "    line_num += 1\n",
    "    for row in csvreader:\n",
    "        quantity = int(row[3])\n",
    "        quantities.append(quantity)\n",
    "        menu_item = int(row[4])\n",
    "        menu_items.append(menu)"
   ]
  },
  {
   "cell_type": "code",
   "execution_count": 9,
   "id": "f8f51296-d8a1-420f-aa35-e1f3f3fb8615",
   "metadata": {
    "tags": []
   },
   "outputs": [],
   "source": [
    "report = {\n",
    "    \"01-count\": 0,\n",
    "    \"02-revenue\": 0,\n",
    "    \"03-cogs\": 0,\n",
    "    \"04-profit\": 0,\n",
    "}\n",
    "# Part 2: Manipulate the Data\n",
    "# Complete the following steps:\n",
    "\n",
    "# Initialize an empty report dictionary to hold the future aggregated per-product results. The report dictionary will eventually contain the following metrics:\n",
    "# 01-count: the total quantity for each ramen type\n",
    "# 02-revenue: the total revenue for each ramen type\n",
    "\n",
    "# 03-cogs: the total cost of goods sold for each ramen type\n",
    "\n",
    "# 04-profit: the total profit for each ramen type"
   ]
  },
  {
   "cell_type": "code",
   "execution_count": 10,
   "id": "c6d416eb-0903-4a91-b724-4917f89ece00",
   "metadata": {
    "tags": []
   },
   "outputs": [],
   "source": [
    "for i in range(len(sales)):\n",
    "    print(sales_data[i])\n",
    "    set \n",
    "# Loop through every row in the sales list object.\n",
    "# For each row of the sales data, set the following columns of the sales data to their own variables:\n",
    "# Quantity\n",
    "# Menu_Item"
   ]
  },
  {
   "cell_type": "code",
   "execution_count": null,
   "id": "84ed41aa-41ee-49e1-ac21-609ec66f0526",
   "metadata": {},
   "outputs": [],
   "source": [
    "\n",
    "# Perform a quick check if the sales_item is already included in the report. If not, initialize the key-value pairs for the particular sales_item in the report. Then, set the sales_item as a new key to the report dictionary and the values as a nested dictionary containing the following:\n",
    "# {\n",
    "# \"01-count\": 0,\n",
    "# \"02-revenue\": 0,\n",
    "# \"03-cogs\": 0,\n",
    "# \"04-profit\": 0,\n",
    "# }"
   ]
  },
  {
   "cell_type": "code",
   "execution_count": null,
   "id": "31402f03-ceae-4846-9745-15d65ee56b06",
   "metadata": {},
   "outputs": [],
   "source": [
    "\n",
    "# Create a nested loop by looping through every record in menu.\n",
    "# For each row of the menu data, set the following columns of the menu data to their own variables:\n",
    "# Item\n",
    "# Price\n",
    "# Cost\n",
    "# \n",
    "# If the sales_item in sales is equal to the item in menu, capture the quantity from the sales data and the price and cost from the menu data to calculate the profit for each item.\n",
    "# Cumulatively add the values to the corresponding metrics in the report like so:\n",
    "# report[sales_item][\"01-count\"] += quantity\n",
    "# report[sales_item][\"02-revenue\"] += price * quantity\n",
    "# report[sales_item][\"03-cogs\"] += cost * quantity\n",
    "# report[sales_item][\"04-profit\"] += profit * quantity\n",
    "# Else print the message \"{sales_item} does not equal {item}! NO MATCH!\"."
   ]
  },
  {
   "cell_type": "code",
   "execution_count": null,
   "id": "89167ce3-8fef-4664-a10d-8d76345c1710",
   "metadata": {
    "tags": []
   },
   "outputs": [],
   "source": [
    "\n",
    "# Write out the contents of the report dictionary to a text file. \n",
    "# The report should output each ramen type as the keys and 01-count, 02-revenue, 03-cogs, and 04-profit metrics as the values for every ramen type as shown:"
   ]
  }
 ],
 "metadata": {
  "kernelspec": {
   "display_name": "Python 3 (ipykernel)",
   "language": "python",
   "name": "python3"
  },
  "language_info": {
   "codemirror_mode": {
    "name": "ipython",
    "version": 3
   },
   "file_extension": ".py",
   "mimetype": "text/x-python",
   "name": "python",
   "nbconvert_exporter": "python",
   "pygments_lexer": "ipython3",
   "version": "3.10.11"
  }
 },
 "nbformat": 4,
 "nbformat_minor": 5
}
