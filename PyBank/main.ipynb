{
 "cells": [
  {
   "cell_type": "code",
   "execution_count": 1,
   "id": "8efd64e5-d12c-4428-88c2-efbfe0bec02d",
   "metadata": {},
   "outputs": [
    {
     "data": {
      "text/plain": [
       "'\\nn this assignment, you will create a Python script that analyzes the financial records of your company.  Inside your starter code, you will find a financial dataset in the budget_data.csv file. This dataset is composed of two columns, Date and Profit/Losses. (Thankfully, your company has rather lax standards for accounting, so the records are simple.)\\n\\nYour task is to create a Python script that analyzes the records to calculate each of the following:\\n\\nThe total number of months included in the dataset\\n\\nThe net total amount of Profit/Losses over the entire period\\n\\nThe average of the changes in Profit/Losses over the entire period\\n\\nThe greatest increase in profits (date and amount) over the entire period\\n\\nThe greatest decrease in losses (date and amount) over the entire period\\n\\nYour resulting analysis should look similar to the following:\\n\\n  Financial Analysis\\n  ----------------------------\\n  Total Months: 86\\n  Total: $38382578\\n  Average  Change: $-2315.12\\n  Greatest Increase in Profits: Feb-2012 ($1926159)\\n  Greatest Decrease in Profits: Sep-2013 ($-2196167)\\n\\nYour final script should print the analysis to the terminal and export a text file with the results.\\n'"
      ]
     },
     "execution_count": 1,
     "metadata": {},
     "output_type": "execute_result"
    }
   ],
   "source": [
    "\"\"\"\n",
    "n this assignment, you will create a Python script that analyzes the financial records of your company.  Inside your starter code, you will find a financial dataset in the budget_data.csv file. This dataset is composed of two columns, Date and Profit/Losses. (Thankfully, your company has rather lax standards for accounting, so the records are simple.)\n",
    "\n",
    "Your task is to create a Python script that analyzes the records to calculate each of the following:\n",
    "\n",
    "The total number of months included in the dataset\n",
    "\n",
    "The net total amount of Profit/Losses over the entire period\n",
    "\n",
    "The average of the changes in Profit/Losses over the entire period\n",
    "\n",
    "The greatest increase in profits (date and amount) over the entire period\n",
    "\n",
    "The greatest decrease in losses (date and amount) over the entire period\n",
    "\n",
    "Your resulting analysis should look similar to the following:\n",
    "\n",
    "  Financial Analysis\n",
    "  ----------------------------\n",
    "  Total Months: 86\n",
    "  Total: $38382578\n",
    "  Average  Change: $-2315.12\n",
    "  Greatest Increase in Profits: Feb-2012 ($1926159)\n",
    "  Greatest Decrease in Profits: Sep-2013 ($-2196167)\n",
    "\n",
    "Your final script should print the analysis to the terminal and export a text file with the results.\n",
    "\"\"\""
   ]
  },
  {
   "cell_type": "code",
   "execution_count": 2,
   "id": "a94a43b6-8c64-47e7-8426-cc2848db01d9",
   "metadata": {},
   "outputs": [],
   "source": [
    "from pathlib import Path\n",
    "import csv"
   ]
  },
  {
   "cell_type": "code",
   "execution_count": 3,
   "id": "9957507b-6794-40b4-badd-a139fbd9f146",
   "metadata": {},
   "outputs": [],
   "source": [
    "csvpath = Path('Resources/budget_data.csv')"
   ]
  },
  {
   "cell_type": "code",
   "execution_count": 4,
   "id": "627f0b27-5fdb-4a11-be31-23814d166319",
   "metadata": {},
   "outputs": [],
   "source": [
    "gross_income = []\n",
    "reporting_month = []\n",
    "line_num = 0"
   ]
  },
  {
   "cell_type": "code",
   "execution_count": 5,
   "id": "edbdf1d0-6687-4afc-a967-29b0812bbce9",
   "metadata": {},
   "outputs": [],
   "source": [
    "with open(csvpath, 'r') as csvfile:\n",
    "    csvreader = csv.reader(csvfile, delimiter=',')\n",
    "    header = next(csvreader)\n",
    "    line_num += 1\n",
    "    for row in csvreader:\n",
    "        income = int(row[1])\n",
    "        gross_income.append(income)"
   ]
  },
  {
   "cell_type": "code",
   "execution_count": 6,
   "id": "54071897-bd84-4a86-a5f4-3cd20f470d4c",
   "metadata": {},
   "outputs": [],
   "source": [
    "max_gross_income = 0\n",
    "min_gross_income = 0\n",
    "avg_gross_income = 0\n",
    "total_gross_income = 0\n",
    "count_gross_income = 0"
   ]
  },
  {
   "cell_type": "code",
   "execution_count": 7,
   "id": "29eef8fe-010a-44b7-bcc0-90780287f49a",
   "metadata": {
    "tags": []
   },
   "outputs": [],
   "source": [
    "for income in gross_income:\n",
    "    total_gross_income += income\n",
    "    count_gross_income += 1\n",
    "    if min_gross_income == 0:\n",
    "        min_gross_income = income\n",
    "    elif income > max_gross_income:\n",
    "        max_gross_income = income\n",
    "    elif income < min_gross_income:\n",
    "        min_gross_income = income"
   ]
  },
  {
   "cell_type": "code",
   "execution_count": 8,
   "id": "337dbddd-f304-4cb7-9425-7e8e2458277f",
   "metadata": {
    "tags": []
   },
   "outputs": [],
   "source": [
    "avg_gross_income = round(total_gross_income / count_gross_income, 2)"
   ]
  },
  {
   "cell_type": "code",
   "execution_count": 9,
   "id": "ebff52d1-4d77-48f8-b971-b17f45d4f824",
   "metadata": {
    "tags": []
   },
   "outputs": [
    {
     "name": "stdout",
     "output_type": "stream",
     "text": [
      "\n",
      "Financial Analysis\n",
      "----------------------------\n",
      "Total Months:86\n",
      "Total:38382578\n",
      "Average Change:446309.05\n",
      "Greatest Increase in Profits: Feb-2012 ($1170593)\n",
      "Greatest Decrease in Profits: Sep-2013 ($-1196225)\n"
     ]
    }
   ],
   "source": [
    "print()\n",
    "print('Financial Analysis')\n",
    "print('----------------------------')\n",
    "print(f'Total Months:{count_gross_income}')\n",
    "print(f'Total:{total_gross_income}')\n",
    "print(f'Average Change:{avg_gross_income}')\n",
    "print(f'Greatest Increase in Profits: Feb-2012 (${max_gross_income})')\n",
    "print(f'Greatest Decrease in Profits: Sep-2013 (${min_gross_income})')"
   ]
  },
  {
   "cell_type": "code",
   "execution_count": null,
   "id": "31cf8f15-6b72-46c8-8664-8a37326e8d84",
   "metadata": {},
   "outputs": [],
   "source": []
  }
 ],
 "metadata": {
  "kernelspec": {
   "display_name": "Python 3 (ipykernel)",
   "language": "python",
   "name": "python3"
  },
  "language_info": {
   "codemirror_mode": {
    "name": "ipython",
    "version": 3
   },
   "file_extension": ".py",
   "mimetype": "text/x-python",
   "name": "python",
   "nbconvert_exporter": "python",
   "pygments_lexer": "ipython3",
   "version": "3.10.11"
  }
 },
 "nbformat": 4,
 "nbformat_minor": 5
}
