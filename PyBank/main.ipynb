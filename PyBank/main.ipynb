{
 "cells": [
  {
   "cell_type": "code",
   "execution_count": 1,
   "id": "8efd64e5-d12c-4428-88c2-efbfe0bec02d",
   "metadata": {},
   "outputs": [
    {
     "data": {
      "text/plain": [
       "'\\nn this assignment, you will create a Python script that analyzes the financial records of your company.  Inside your starter code, you will find a financial dataset in the budget_data.csv file. This dataset is composed of two columns, Date and Profit/Losses. (Thankfully, your company has rather lax standards for accounting, so the records are simple.)\\n\\nYour task is to create a Python script that analyzes the records to calculate each of the following:\\n\\nThe total number of months included in the dataset\\n\\nThe net total amount of Profit/Losses over the entire period\\n\\nThe average of the changes in Profit/Losses over the entire period\\n\\nThe greatest increase in profits (date and amount) over the entire period\\n\\nThe greatest decrease in losses (date and amount) over the entire period\\n\\nYour resulting analysis should look similar to the following:\\n\\n  Financial Analysis\\n  ----------------------------\\n  Total Months: 86\\n  Total: $38382578\\n  Average  Change: $-2315.12\\n  Greatest Increase in Profits: Feb-2012 ($1926159)\\n  Greatest Decrease in Profits: Sep-2013 ($-2196167)\\n\\nYour final script should print the analysis to the terminal and export a text file with the results.\\n'"
      ]
     },
     "execution_count": 1,
     "metadata": {},
     "output_type": "execute_result"
    }
   ],
   "source": [
    "\"\"\"\n",
    "n this assignment, you will create a Python script that analyzes the financial records of your company.  Inside your starter code, you will find a financial dataset in the budget_data.csv file. This dataset is composed of two columns, Date and Profit/Losses. (Thankfully, your company has rather lax standards for accounting, so the records are simple.)\n",
    "\n",
    "Your task is to create a Python script that analyzes the records to calculate each of the following:\n",
    "\n",
    "The total number of months included in the dataset\n",
    "\n",
    "The net total amount of Profit/Losses over the entire period\n",
    "\n",
    "The average of the changes in Profit/Losses over the entire period\n",
    "\n",
    "The greatest increase in profits (date and amount) over the entire period\n",
    "\n",
    "The greatest decrease in losses (date and amount) over the entire period\n",
    "\n",
    "Your resulting analysis should look similar to the following:\n",
    "\n",
    "  Financial Analysis\n",
    "  ----------------------------\n",
    "  Total Months: 86\n",
    "  Total: $38382578\n",
    "  Average  Change: $-2315.12\n",
    "  Greatest Increase in Profits: Feb-2012 ($1926159)\n",
    "  Greatest Decrease in Profits: Sep-2013 ($-2196167)\n",
    "\n",
    "Your final script should print the analysis to the terminal and export a text file with the results.\n",
    "\"\"\""
   ]
  },
  {
   "cell_type": "code",
   "execution_count": 2,
   "id": "a94a43b6-8c64-47e7-8426-cc2848db01d9",
   "metadata": {},
   "outputs": [],
   "source": [
    "# import file pathlib\n",
    "from pathlib import Path\n",
    "import csv"
   ]
  },
  {
   "cell_type": "code",
   "execution_count": 3,
   "id": "9957507b-6794-40b4-badd-a139fbd9f146",
   "metadata": {},
   "outputs": [],
   "source": [
    "#create file path\n",
    "file_import = Path('Resources/budget_data.csv')\n",
    "file_output = Path('Analysis/budget_analysis.txt')"
   ]
  },
  {
   "cell_type": "code",
   "execution_count": 4,
   "id": "627f0b27-5fdb-4a11-be31-23814d166319",
   "metadata": {},
   "outputs": [],
   "source": [
    "# initialize summary statistic variables\n",
    "total_months=0\n",
    "month_of_change = []\n",
    "net_change_list = []\n",
    "greatest_increase = [\"\", 0]\n",
    "greatest_decrease = [\"\", 9999999999999999999]\n",
    "total_net = 0"
   ]
  },
  {
   "cell_type": "code",
   "execution_count": 5,
   "id": "edbdf1d0-6687-4afc-a967-29b0812bbce9",
   "metadata": {},
   "outputs": [],
   "source": [
    "# code for summary statistics\n",
    "with open(file_import) as financial_data:\n",
    "    reader = csv.reader(financial_data)\n",
    "    \n",
    "    header=next(reader)\n",
    "    \n",
    "    first_row = next(reader)\n",
    "    total_months = total_months + 1\n",
    "    total_net = total_net + int(first_row[1])\n",
    "    prev_net = int(first_row[1])\n",
    "    \n",
    "    for row in reader:\n",
    "\n",
    "        # Track the total\n",
    "        total_months = total_months + 1\n",
    "        total_net = total_net + int(row[1])\n",
    "\n",
    "        # Track the net change\n",
    "        net_change = int(row[1]) - prev_net\n",
    "        prev_net = int(row[1])\n",
    "        net_change_list = net_change_list + [net_change]\n",
    "        month_of_change = month_of_change + [row[0]]\n",
    "\n",
    "        # Calculate the greatest increase\n",
    "        if net_change > greatest_increase[1]:\n",
    "            greatest_increase[0] = row[0]\n",
    "            greatest_increase[1] = net_change\n",
    "\n",
    "        # Calculate the greatest decrease\n",
    "        if net_change < greatest_decrease[1]:\n",
    "            greatest_decrease[0] = row[0]\n",
    "            greatest_decrease[1] = net_change"
   ]
  },
  {
   "cell_type": "code",
   "execution_count": 6,
   "id": "9ede332b-f12b-478f-b0ed-f3c423897c3b",
   "metadata": {
    "tags": []
   },
   "outputs": [
    {
     "data": {
      "text/plain": [
       "-2315.12"
      ]
     },
     "execution_count": 6,
     "metadata": {},
     "output_type": "execute_result"
    }
   ],
   "source": [
    "net_monthly_avg = round(sum(net_change_list) / len(net_change_list),2)\n",
    "net_monthly_avg"
   ]
  },
  {
   "cell_type": "code",
   "execution_count": 7,
   "id": "fbe53f81-eeb6-45db-8666-1d1463e9a88b",
   "metadata": {
    "tags": []
   },
   "outputs": [],
   "source": [
    "with open(file_output, \"w\") as txt_file:\n",
    "    txt_file.write(f\"Financial Analysis\\n\")\n",
    "    txt_file.write(f\"----------------------------\\n\")\n",
    "    txt_file.write(f\"Total Months: {total_months}\\n\")\n",
    "    txt_file.write(f\"Total: ${total_net}\\n\")\n",
    "    txt_file.write(f\"Average  Change: ${net_monthly_avg}\\n\")\n",
    "    txt_file.write(f\"Greatest Increase in Profits: {greatest_increase[0]} (${greatest_increase[1]})\\n\")\n",
    "    txt_file.write(f\"Greatest Decrease in Profits: {greatest_decrease[0]} (${greatest_decrease[1]})\\n\")"
   ]
  },
  {
   "cell_type": "code",
   "execution_count": null,
   "id": "31cf8f15-6b72-46c8-8664-8a37326e8d84",
   "metadata": {},
   "outputs": [],
   "source": []
  }
 ],
 "metadata": {
  "kernelspec": {
   "display_name": "Python 3 (ipykernel)",
   "language": "python",
   "name": "python3"
  },
  "language_info": {
   "codemirror_mode": {
    "name": "ipython",
    "version": 3
   },
   "file_extension": ".py",
   "mimetype": "text/x-python",
   "name": "python",
   "nbconvert_exporter": "python",
   "pygments_lexer": "ipython3",
   "version": "3.10.11"
  }
 },
 "nbformat": 4,
 "nbformat_minor": 5
}
